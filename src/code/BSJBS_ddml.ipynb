{
 "cells": [
  {
   "cell_type": "code",
   "execution_count": 12,
   "metadata": {},
   "outputs": [],
   "source": [
    "import numpy as np\n",
    "import pandas as pd\n",
    "import doubleml as dml\n",
    "import multiprocessing\n",
    "\n",
    "import lightgbm as lgb\n",
    "\n",
    "df = pd.read_csv('../data/df_reg.csv',encoding='cp932')"
   ]
  },
  {
   "cell_type": "code",
   "execution_count": 6,
   "metadata": {},
   "outputs": [
    {
     "data": {
      "application/vnd.jupyter.widget-view+json": {
       "model_id": "b309a2137a5043e1ac17574f9a69ee6a",
       "version_major": 2,
       "version_minor": 0
      },
      "text/plain": [
       "Summarize dataset:   0%|          | 0/5 [00:00<?, ?it/s]"
      ]
     },
     "metadata": {},
     "output_type": "display_data"
    },
    {
     "name": "stderr",
     "output_type": "stream",
     "text": [
      "/usr/local/lib/python3.10/site-packages/numpy/core/_methods.py:49: RuntimeWarning: invalid value encountered in reduce\n",
      "  return umr_sum(a, axis, dtype, out, keepdims, initial, where)\n",
      "/usr/local/lib/python3.10/site-packages/numpy/core/_methods.py:215: RuntimeWarning: invalid value encountered in reduce\n",
      "  arrmean = umr_sum(arr, axis, dtype, keepdims=True, where=where)\n",
      "/usr/local/lib/python3.10/site-packages/numpy/core/_methods.py:215: RuntimeWarning: invalid value encountered in reduce\n",
      "  arrmean = umr_sum(arr, axis, dtype, keepdims=True, where=where)\n",
      "/usr/local/lib/python3.10/site-packages/numpy/lib/function_base.py:4573: RuntimeWarning: invalid value encountered in subtract\n",
      "  diff_b_a = subtract(b, a)\n",
      "/usr/local/lib/python3.10/site-packages/ydata_profiling/model/correlations.py:66: UserWarning: There was an attempt to calculate the auto correlation, but this failed.\n",
      "To hide this warning, disable the calculation\n",
      "(using `df.profile_report(correlations={\"auto\": {\"calculate\": False}})`\n",
      "If this is problematic for your use case, please report this as an issue:\n",
      "https://github.com/ydataai/ydata-profiling/issues\n",
      "(include the error message: 'cannot specify integer `bins` when input data contains infinity')\n",
      "  warnings.warn(\n"
     ]
    },
    {
     "data": {
      "application/vnd.jupyter.widget-view+json": {
       "model_id": "a5c5795bd117436d9c593ebcd402a284",
       "version_major": 2,
       "version_minor": 0
      },
      "text/plain": [
       "Generate report structure:   0%|          | 0/1 [00:00<?, ?it/s]"
      ]
     },
     "metadata": {},
     "output_type": "display_data"
    },
    {
     "data": {
      "application/vnd.jupyter.widget-view+json": {
       "model_id": "658f5be279f64385a06bd7b3df798450",
       "version_major": 2,
       "version_minor": 0
      },
      "text/plain": [
       "Render HTML:   0%|          | 0/1 [00:00<?, ?it/s]"
      ]
     },
     "metadata": {},
     "output_type": "display_data"
    },
    {
     "data": {
      "application/vnd.jupyter.widget-view+json": {
       "model_id": "b6e9841a9e384116b6baa43bb24bf8d3",
       "version_major": 2,
       "version_minor": 0
      },
      "text/plain": [
       "Export report to file:   0%|          | 0/1 [00:00<?, ?it/s]"
      ]
     },
     "metadata": {},
     "output_type": "display_data"
    }
   ],
   "source": [
    "# htmlのサマリーが必要であれば実行\n",
    "from ydata_profiling import ProfileReport\n",
    "profile = ProfileReport(df)\n",
    "\n",
    "profile.to_file(output_file=\"output.html\")"
   ]
  },
  {
   "cell_type": "code",
   "execution_count": 18,
   "metadata": {},
   "outputs": [],
   "source": [
    "df = pd.read_csv('../data/df_reg.csv',encoding='cp932')\n",
    "\n",
    "'''\n",
    " 'total_employee', 'minimum_wage',\n",
    "       'setsubi',  'labor_alloc', 'luriage',\n",
    "       'ln_added_value', 'ln_total_employee', 'ln_investment', 'labor_prod',\n",
    "       'ln_min_wage_lag1', 'ln_min_wage_lag2', 'ln_min_wage_lag3', 'part_prop',\n",
    "       'cgpi', 'koueki', 'unemp_rate', 'nilf_rate', 'pref', 'ind_large',\n",
    "       'markup_class'\n",
    "       のうち、0が含まれるものは0をNaNに変換する\n",
    "'''\n",
    "zeros_to_nan = [ 'total_employee', 'minimum_wage',\n",
    "       'setsubi',  'labor_alloc', 'luriage',\n",
    "       'ln_added_value', 'ln_total_employee', 'ln_investment', 'labor_prod',\n",
    "       'ln_min_wage_lag1', 'ln_min_wage_lag2', 'ln_min_wage_lag3', 'part_prop',\n",
    "       'cgpi', 'koueki', 'unemp_rate', 'nilf_rate', 'pref', 'ind_large',\n",
    "       'markup_class']\n",
    "for col in zeros_to_nan:\n",
    "    df[col] = df[col].replace(0, np.nan)\n",
    "\n",
    "df = df.drop(['minimum_wage'], axis=1)\n",
    "\n",
    "categorical_vars = [\"ind_large\",\"markup_class\"]\n",
    "df = pd.get_dummies(df, columns=categorical_vars, drop_first=True)\n",
    "\n",
    "df_reg = df\n"
   ]
  },
  {
   "cell_type": "code",
   "execution_count": 14,
   "metadata": {},
   "outputs": [],
   "source": [
    "tgt_vars  = [\"added_value_ratio\",\"labor_alloc\",\"luriage\",\n",
    "             \"ln_added_value\",\"ln_total_employee\",\"ln_investment\",\"labor_prod\"]\n",
    "\n",
    "wage_vars = [\"ln_min_wage_lag1\",\"ln_min_wage_lag2\",\"ln_min_wage_lag3\"]\n",
    "\n",
    "\n",
    "\n",
    "#dfの変数から、tgt_varsとwage_varsを除外したものを説明変数のリストとする\n",
    "exog_vars = list(set(df.columns) - set(tgt_vars) - set(wage_vars))\n",
    "\n"
   ]
  },
  {
   "cell_type": "code",
   "execution_count": 16,
   "metadata": {},
   "outputs": [
    {
     "name": "stdout",
     "output_type": "stream",
     "text": [
      "[LightGBM] [Warning] Categorical features with more bins than the configured maximum bin number found.\n",
      "[LightGBM] [Warning] For categorical features, max_bin and max_bin_by_feature may be ignored with a large number of categories.\n",
      "[LightGBM] [Warning] Auto-choosing col-wise multi-threading, the overhead of testing was 0.011552 seconds.\n",
      "You can set `force_col_wise=true` to remove the overhead.\n"
     ]
    }
   ],
   "source": [
    "#'luriage'を目的変数にして、exo_varsを説明変数とするlightgbmモデルを作成\n",
    "\n",
    "# モデルのパラメータを指定する。'id_eternal'と'pref'はcategorical変数なので、\n",
    "# 'categorical_feature'に指定する。\n",
    "params = {'objective': 'regression',\n",
    "          'metric': 'rmse',\n",
    "          'num_leaves': 10,\n",
    "          'learning_rate': 0.01,\n",
    "          'feature_fraction': 0.8,\n",
    "          'bagging_fraction': 0.8,\n",
    "          'bagging_freq': 1,\n",
    "          'verbose': 0,\n",
    "          'num_threads': multiprocessing.cpu_count(),\n",
    "          'seed': 1234}\n",
    "\n",
    "#'pref'を1～47の数字に変換\n",
    "df['pref'] = pd.factorize(df['pref'])[0] + 1\n",
    "\n",
    "#目的変数から欠損値を除外して、0も除外\n",
    "\n",
    "df = df.dropna(subset=['luriage'])\n",
    "df = df[df['luriage'] > 0]\n",
    "\n",
    "\n",
    "# 'id_eternal'と'pref'をcategorical_featureにするlightgbmの回帰モデルを作成\n",
    "model = lgb.train(params,\n",
    "                  lgb.Dataset(df[exog_vars],\n",
    "                              label=df['luriage']),\n",
    "                  num_boost_round=1000,\n",
    "                  categorical_feature=['id_eternal', 'pref'])\n",
    "\n",
    "# モデルの予測値と、目的変数との残差を計算\n",
    "df['resid_luriage'] = df['luriage'] - model.predict(df[exog_vars])\n"
   ]
  },
  {
   "cell_type": "code",
   "execution_count": 17,
   "metadata": {},
   "outputs": [
    {
     "data": {
      "image/png": "[encoded data removed]",
      "text/plain": [
       "<Figure size 640x480 with 1 Axes>"
      ]
     },
     "metadata": {},
     "output_type": "display_data"
    }
   ],
   "source": [
    "#dfの'luriage'と'resid'をプロットする\n",
    "import matplotlib.pyplot as plt\n",
    "plt.scatter(df['luriage'], df['resid'])\n",
    "plt.xlabel('luriage')\n",
    "plt.ylabel('residual')\n",
    "plt.show()\n"
   ]
  },
  {
   "cell_type": "code",
   "execution_count": null,
   "metadata": {},
   "outputs": [],
   "source": [
    "'''\n",
    "- tgt_vars及びwage_varsを目的変数にして、exo_varsを説明変数とするlightgbmモデルを繰り返し実行する。\n",
    "  この時、df_regを用いて実行し、それぞれの予測の結果をdfに追加し、それぞれの予測値と目的変数との残差も名前が重複しないようにdfに追加する。\n",
    "- 'id_eternal'と'pref'はcategorical変数なので、'categorical_feature'に指定する。\n",
    "- 'pref'を1～47の数字に変換する。\n",
    "'''\n",
    "\n",
    "## モデルの予測値と残差を保存するためのdf_resultを作成。これは、dfのid_eternalとyearをコピーしたものとする。\n",
    "df_result = df[['id_eternal', 'year']].copy()\n",
    "\n",
    "for tgt_var in tgt_vars:\n",
    "    \n",
    "    params = {'objective': 'regression',\n",
    "          'metric': 'rmse',\n",
    "          'num_leaves': 10,\n",
    "          'learning_rate': 0.01,\n",
    "          'feature_fraction': 0.8,\n",
    "          'bagging_fraction': 0.8,\n",
    "          'bagging_freq': 1,\n",
    "          'verbose': 0,\n",
    "          'num_threads': multiprocessing.cpu_count(),\n",
    "          'seed': 1234}\n",
    "\n",
    "    #'pref'を1～47の数字に変換\n",
    "    df_reg['pref'] = pd.factorize(df_reg['pref'])[0] + 1\n",
    "\n",
    "    #目的変数から欠損値を除外\n",
    "    df_reg = df_reg.dropna(subset=[tgt_var])\n",
    "    '''\n",
    "    もし目的変数が、'labor_alloc','ln_total_employee','luriage','labor_prod'の場合は、0も除外する\n",
    "       \n",
    "    '''\n",
    "    if tgt_var in ['labor_alloc','ln_total_employee','luriage','labor_prod']:\n",
    "        df_reg = df_reg[df_reg[tgt_var] > 0]\n",
    "\n",
    "\n",
    "    # 'id_eternal'と'pref'をcategorical_featureにするlightgbmの回帰モデルを作成\n",
    "    model = lgb.train(params,\n",
    "                      lgb.Dataset(df_reg[exog_vars],\n",
    "                                  label=df_reg[tgt_var]),\n",
    "                      num_boost_round=1000,\n",
    "                      categorical_feature=['id_eternal', 'pref'])\n",
    "\n",
    "    # モデルの予測値と、目的変数との残差を計算して,'id_eternal'と'year'をkeyとして\n",
    "    # それぞれdf_resultに追加\n",
    "    df_reg['pred_'+tgt_var] = model.predict(df_reg[exog_vars])\n",
    "    df_reg['resid_'+tgt_var] = df_reg[tgt_var] - model.predict(df_reg[exog_vars])\n",
    "    df_result = pd.merge(df_result, df_reg[['id_eternal', 'year',tgt_var, 'resid_'+tgt_var, 'pred_'+tgt_var]],\n",
    "                         on=['id_eternal', 'year'], how='left')\n",
    "\n",
    "\n",
    "\n",
    "    df_reg = df\n"
   ]
  },
  {
   "cell_type": "code",
   "execution_count": 26,
   "metadata": {},
   "outputs": [],
   "source": [
    "#save df_result\n",
    "\n",
    "df_result.to_csv('../data/df_result.csv', index=False)"
   ]
  },
  {
   "cell_type": "code",
   "execution_count": 27,
   "metadata": {},
   "outputs": [
    {
     "name": "stdout",
     "output_type": "stream",
     "text": [
      "[LightGBM] [Warning] Categorical features with more bins than the configured maximum bin number found.\n",
      "[LightGBM] [Warning] For categorical features, max_bin and max_bin_by_feature may be ignored with a large number of categories.\n",
      "[LightGBM] [Warning] Auto-choosing col-wise multi-threading, the overhead of testing was 0.012278 seconds.\n",
      "You can set `force_col_wise=true` to remove the overhead.\n"
     ]
    },
    {
     "name": "stderr",
     "output_type": "stream",
     "text": [
      "/tmp/ipykernel_27447/3724491642.py:42: SettingWithCopyWarning: \n",
      "A value is trying to be set on a copy of a slice from a DataFrame.\n",
      "Try using .loc[row_indexer,col_indexer] = value instead\n",
      "\n",
      "See the caveats in the documentation: https://pandas.pydata.org/pandas-docs/stable/user_guide/indexing.html#returning-a-view-versus-a-copy\n",
      "  df_reg['pred_'+tgt_var] = model.predict(df_reg[exog_vars])\n",
      "/tmp/ipykernel_27447/3724491642.py:43: SettingWithCopyWarning: \n",
      "A value is trying to be set on a copy of a slice from a DataFrame.\n",
      "Try using .loc[row_indexer,col_indexer] = value instead\n",
      "\n",
      "See the caveats in the documentation: https://pandas.pydata.org/pandas-docs/stable/user_guide/indexing.html#returning-a-view-versus-a-copy\n",
      "  df_reg['resid_'+tgt_var] = df_reg[tgt_var] - model.predict(df_reg[exog_vars])\n"
     ]
    },
    {
     "name": "stdout",
     "output_type": "stream",
     "text": [
      "[LightGBM] [Warning] Categorical features with more bins than the configured maximum bin number found.\n",
      "[LightGBM] [Warning] For categorical features, max_bin and max_bin_by_feature may be ignored with a large number of categories.\n",
      "[LightGBM] [Warning] Auto-choosing row-wise multi-threading, the overhead of testing was 0.002334 seconds.\n",
      "You can set `force_row_wise=true` to remove the overhead.\n",
      "And if memory is not enough, you can set `force_col_wise=true`.\n"
     ]
    },
    {
     "name": "stderr",
     "output_type": "stream",
     "text": [
      "/tmp/ipykernel_27447/3724491642.py:42: SettingWithCopyWarning: \n",
      "A value is trying to be set on a copy of a slice from a DataFrame.\n",
      "Try using .loc[row_indexer,col_indexer] = value instead\n",
      "\n",
      "See the caveats in the documentation: https://pandas.pydata.org/pandas-docs/stable/user_guide/indexing.html#returning-a-view-versus-a-copy\n",
      "  df_reg['pred_'+tgt_var] = model.predict(df_reg[exog_vars])\n",
      "/tmp/ipykernel_27447/3724491642.py:43: SettingWithCopyWarning: \n",
      "A value is trying to be set on a copy of a slice from a DataFrame.\n",
      "Try using .loc[row_indexer,col_indexer] = value instead\n",
      "\n",
      "See the caveats in the documentation: https://pandas.pydata.org/pandas-docs/stable/user_guide/indexing.html#returning-a-view-versus-a-copy\n",
      "  df_reg['resid_'+tgt_var] = df_reg[tgt_var] - model.predict(df_reg[exog_vars])\n"
     ]
    },
    {
     "name": "stdout",
     "output_type": "stream",
     "text": [
      "[LightGBM] [Warning] Categorical features with more bins than the configured maximum bin number found.\n",
      "[LightGBM] [Warning] For categorical features, max_bin and max_bin_by_feature may be ignored with a large number of categories.\n",
      "[LightGBM] [Warning] Auto-choosing col-wise multi-threading, the overhead of testing was 0.005985 seconds.\n",
      "You can set `force_col_wise=true` to remove the overhead.\n"
     ]
    },
    {
     "name": "stderr",
     "output_type": "stream",
     "text": [
      "/tmp/ipykernel_27447/3724491642.py:42: SettingWithCopyWarning: \n",
      "A value is trying to be set on a copy of a slice from a DataFrame.\n",
      "Try using .loc[row_indexer,col_indexer] = value instead\n",
      "\n",
      "See the caveats in the documentation: https://pandas.pydata.org/pandas-docs/stable/user_guide/indexing.html#returning-a-view-versus-a-copy\n",
      "  df_reg['pred_'+tgt_var] = model.predict(df_reg[exog_vars])\n",
      "/tmp/ipykernel_27447/3724491642.py:43: SettingWithCopyWarning: \n",
      "A value is trying to be set on a copy of a slice from a DataFrame.\n",
      "Try using .loc[row_indexer,col_indexer] = value instead\n",
      "\n",
      "See the caveats in the documentation: https://pandas.pydata.org/pandas-docs/stable/user_guide/indexing.html#returning-a-view-versus-a-copy\n",
      "  df_reg['resid_'+tgt_var] = df_reg[tgt_var] - model.predict(df_reg[exog_vars])\n"
     ]
    }
   ],
   "source": [
    "'''\n",
    "- tgt_vars及びwage_varsを目的変数にして、exo_varsを説明変数とするlightgbmモデルを繰り返し実行する。\n",
    "  この時、df_regを用いて実行し、それぞれの予測の結果をdfに追加し、それぞれの予測値と目的変数との残差も名前が重複しないようにdfに追加する。\n",
    "- 'id_eternal'と'pref'はcategorical変数なので、'categorical_feature'に指定する。\n",
    "- 'pref'を1～47の数字に変換する。\n",
    "'''\n",
    "for tgt_var in wage_vars:\n",
    "    \n",
    "    params = {'objective': 'regression',\n",
    "          'metric': 'rmse',\n",
    "          'num_leaves': 10,\n",
    "          'learning_rate': 0.01,\n",
    "          'feature_fraction': 0.8,\n",
    "          'bagging_fraction': 0.8,\n",
    "          'bagging_freq': 1,\n",
    "          'verbose': 0,\n",
    "          'num_threads': multiprocessing.cpu_count(),\n",
    "          'seed': 1234}\n",
    "\n",
    "    #'pref'を1～47の数字に変換\n",
    "    df_reg['pref'] = pd.factorize(df_reg['pref'])[0] + 1\n",
    "\n",
    "    #目的変数から欠損値を除外\n",
    "    df_reg = df_reg.dropna(subset=[tgt_var])\n",
    "    '''\n",
    "    もし目的変数が、'labor_alloc','ln_total_employee','luriage','labor_prod'の場合は、0も除外する\n",
    "       \n",
    "    '''\n",
    "    if tgt_var in ['labor_alloc','ln_total_employee','luriage','labor_prod']:\n",
    "        df_reg = df_reg[df_reg[tgt_var] > 0]\n",
    "\n",
    "\n",
    "    # 'id_eternal'と'pref'をcategorical_featureにするlightgbmの回帰モデルを作成\n",
    "    model = lgb.train(params,\n",
    "                      lgb.Dataset(df_reg[exog_vars],\n",
    "                                  label=df_reg[tgt_var]),\n",
    "                      num_boost_round=1000,\n",
    "                      categorical_feature=['id_eternal', 'pref'])\n",
    "\n",
    "    # モデルの予測値と、目的変数との残差を計算して,'id_eternal'と'year'をkeyとして\n",
    "    # それぞれdf_resultに追加\n",
    "    df_reg['pred_'+tgt_var] = model.predict(df_reg[exog_vars])\n",
    "    df_reg['resid_'+tgt_var] = df_reg[tgt_var] - model.predict(df_reg[exog_vars])\n",
    "    df_result = pd.merge(df_result, df_reg[['id_eternal', 'year',tgt_var, 'resid_'+tgt_var, 'pred_'+tgt_var]],\n",
    "                         on=['id_eternal', 'year'], how='left')\n",
    "\n",
    "\n",
    "\n",
    "    df_reg = df\n",
    "\n",
    "df_result.to_csv('../data/df_result_with_wage.csv', index=False)"
   ]
  },
  {
   "cell_type": "code",
   "execution_count": 36,
   "metadata": {},
   "outputs": [
    {
     "data": {
      "text/plain": [
       "Index(['id_eternal', 'year', 'added_value_ratio', 'resid_added_value_ratio',\n",
       "       'pred_added_value_ratio', 'labor_alloc', 'resid_labor_alloc',\n",
       "       'pred_labor_alloc', 'luriage', 'resid_luriage', 'pred_luriage',\n",
       "       'ln_added_value', 'resid_ln_added_value', 'pred_ln_added_value',\n",
       "       'ln_total_employee', 'resid_ln_total_employee',\n",
       "       'pred_ln_total_employee', 'ln_investment', 'resid_ln_investment',\n",
       "       'pred_ln_investment', 'labor_prod', 'resid_labor_prod',\n",
       "       'pred_labor_prod', 'ln_min_wage_lag1', 'resid_ln_min_wage_lag1',\n",
       "       'pred_ln_min_wage_lag1', 'ln_min_wage_lag2', 'resid_ln_min_wage_lag2',\n",
       "       'pred_ln_min_wage_lag2', 'ln_min_wage_lag3', 'resid_ln_min_wage_lag3',\n",
       "       'pred_ln_min_wage_lag3'],\n",
       "      dtype='object')"
      ]
     },
     "execution_count": 36,
     "metadata": {},
     "output_type": "execute_result"
    }
   ],
   "source": [
    "df_result.columns\n"
   ]
  },
  {
   "cell_type": "code",
   "execution_count": 47,
   "metadata": {},
   "outputs": [
    {
     "name": "stdout",
     "output_type": "stream",
     "text": [
      "                   OLS Regression Results                  \n",
      "===========================================================\n",
      "Dep. Variable:                 target   F-statistic:       \n",
      "Model:                            OLS   Prob (F-statistic):\n",
      "No. Observations:              264399                      \n",
      "Covariance Type:            nonrobust                      \n",
      "==========================================================================================\n",
      "                             coef    std err          t      P>|t|      [0.025      0.975]\n",
      "------------------------------------------------------------------------------------------\n",
      "resid_ln_min_wage_lag1    -0.0891      0.084     -1.066      0.287      -0.253       0.075\n",
      "resid_ln_min_wage_lag2     0.0023      0.097      0.024      0.981      -0.187       0.192\n",
      "resid_ln_min_wage_lag3    -0.1550      0.079     -1.965      0.049      -0.310      -0.000\n",
      "==========================================================================================\n",
      "\n",
      "Notes:\n",
      "[1] R² is computed without centering (uncentered) since the model does not contain a constant.\n",
      "[2] Standard Errors assume that the covariance matrix of the errors is correctly specified.\n"
     ]
    },
    {
     "data": {
      "text/plain": [
       "<matplotlib.collections.PathCollection at 0x7f72a347a050>"
      ]
     },
     "execution_count": 47,
     "metadata": {},
     "output_type": "execute_result"
    },
    {
     "data": {
      "image/png": "[encoded data removed]",
      "text/plain": [
       "<Figure size 640x480 with 1 Axes>"
      ]
     },
     "metadata": {},
     "output_type": "display_data"
    }
   ],
   "source": [
    "'''\n",
    "df_resultにおいて、'resid_luriage'を目的変数として、\n",
    "'resid_'+wage_varsを説明変数とする線形回帰モデルを作成する。\n",
    "'''\n",
    "import statsmodels.api as sms\n",
    "from sklearn.linear_model import LinearRegression\n",
    "\n",
    "# 'resid_luriage'を目的変数として、\n",
    "# 'resid_'+wage_varsを説明変数とする線形回帰モデルを作成する。\n",
    "\n",
    "\n",
    "df_for_dml = df_result.copy()\n",
    "df_for_dml['target'] = df_result['resid_luriage']\n",
    "df_for_dml = df_for_dml.dropna(subset=['target'])\n",
    "df_for_dml = df_for_dml.dropna(subset=['resid_ln_min_wage_lag1'])\n",
    "df_for_dml = df_for_dml.dropna(subset=['resid_ln_min_wage_lag2'])\n",
    "df_for_dml = df_for_dml.dropna(subset=['resid_ln_min_wage_lag3'])\n",
    "\n",
    "dml_reg = sms.OLS(df_for_dml['target'],\n",
    "                    df_for_dml[['resid_ln_min_wage_lag1','resid_ln_min_wage_lag2','resid_ln_min_wage_lag3']])\n",
    "dml_reg = dml_reg.fit()\n",
    "\n",
    "# 線形回帰モデルの結果を表示\n",
    "print(dml_reg.summary(slim=True))\n",
    "\n",
    "# 線形回帰モデルの残差をプロット\n",
    "plt.scatter(dml_reg.predict(df_for_dml[['resid_ln_min_wage_lag1','resid_ln_min_wage_lag2','resid_ln_min_wage_lag3']]),\n",
    "            dml_reg.resid)"
   ]
  }
 ],
 "metadata": {
  "kernelspec": {
   "display_name": "Python 3",
   "language": "python",
   "name": "python3"
  },
  "language_info": {
   "codemirror_mode": {
    "name": "ipython",
    "version": 3
   },
   "file_extension": ".py",
   "mimetype": "text/x-python",
   "name": "python",
   "nbconvert_exporter": "python",
   "pygments_lexer": "ipython3",
   "version": "3.10.12"
  }
 },
 "nbformat": 4,
 "nbformat_minor": 2
}
