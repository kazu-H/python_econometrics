{
 "cells": [
  {
   "cell_type": "code",
   "execution_count": 1,
   "metadata": {},
   "outputs": [],
   "source": [
    "import numpy as np\n",
    "from scipy.stats import norm, gaussian_kde\n",
    "import matplotlib.pyplot as plt\n",
    "import pandas as pd\n",
    "from linearmodels.panel.data import PanelData\n",
    "from linearmodels.panel import PanelOLS, PooledOLS, RandomEffects, compare\n",
    "from collections import OrderedDict\n",
    "import wooldridge\n",
    "from statsmodels.formula.api import ols\n",
    "\n",
    "# 警告メッセージを非表示\n",
    "import warnings\n",
    "warnings.filterwarnings(\"ignore\")"
   ]
  },
  {
   "cell_type": "code",
   "execution_count": 3,
   "metadata": {},
   "outputs": [],
   "source": [
    "wagepan = wooldridge.data('wagepan')\n",
    "#wooldridge.data('wagepan', description=True)"
   ]
  },
  {
   "cell_type": "code",
   "execution_count": 4,
   "metadata": {},
   "outputs": [
    {
     "name": "stdout",
     "output_type": "stream",
     "text": [
      "married: 0.04668\n",
      "union: 0.08\n",
      "expersq: -0.005185\n",
      "d81: 0.1512\n",
      "d82: 0.253\n",
      "d83: 0.3544\n",
      "d84: 0.4901\n",
      "d85: 0.6175\n",
      "d86: 0.7655\n",
      "d87: 0.925\n"
     ]
    }
   ],
   "source": [
    "# 説明変数のリスト\n",
    "exog = ['married','union','expersq','d81','d82','d83','d84','d85','d86','d87']\n",
    "\n",
    "# 全ての変数のリスト\n",
    "var = ['lwage']+exog\n",
    "\n",
    "# 使う変数だけで構成されるDataFrame\n",
    "df = wagepan.loc[:,['nr']+var]\n",
    "\n",
    "# varの平均からの乖離を計算\n",
    "df_g = df.groupby('nr')\n",
    "df_mean = df_g[var].transform('mean')\n",
    "df_md = df.loc[:,var]-df_mean\n",
    "\n",
    "# 説明変数の行列\n",
    "#そもそもデータフレームはデータ本体がvaluesで定義されるため、.valuesを最後につけることでnumpy.ndarray形式のデータのみを取り出せる。\n",
    "#https://note.nkmk.me/python-pandas-dataframe-values-columns-index/#3-values-columns-index\n",
    "X = df_md.loc[:,exog].values\n",
    "\n",
    "# 被説明変数のベクトル\n",
    "Y = df_md.loc[:,'lwage'].values\n",
    "\n",
    "# OLSの計算\n",
    "params = np.linalg.inv((X.T)@X)@(X.T)@Y\n",
    "\n",
    "for idx, name in enumerate(exog):\n",
    "    print(f'{name}: {params[idx]:.4}')\n",
    "\n",
    "    #enumerate関数はリスト等のオブジェクトから、要素の位置番号と要素そのものを同時に取得する。\n",
    "    #https://note.nkmk.me/python-enumerate-start/"
   ]
  },
  {
   "cell_type": "code",
   "execution_count": 13,
   "metadata": {},
   "outputs": [],
   "source": [
    "wagepan = wagepan.set_index(['nr','year'],drop=False)\n",
    "wagepanp = PanelData(wagepan)\n",
    "\n"
   ]
  },
  {
   "cell_type": "code",
   "execution_count": 14,
   "metadata": {},
   "outputs": [
    {
     "name": "stdout",
     "output_type": "stream",
     "text": [
      "                             Parameter Estimates                              \n",
      "==============================================================================\n",
      "            Parameter  Std. Err.     T-stat    P-value    Lower CI    Upper CI\n",
      "------------------------------------------------------------------------------\n",
      "married        0.0467     0.0183     2.5494     0.0108      0.0108      0.0826\n",
      "union          0.0800     0.0193     4.1430     0.0000      0.0421      0.1179\n",
      "expersq       -0.0052     0.0007    -7.3612     0.0000     -0.0066     -0.0038\n",
      "d81            0.1512     0.0219     6.8883     0.0000      0.1082      0.1942\n",
      "d82            0.2530     0.0244     10.360     0.0000      0.2051      0.3008\n",
      "d83            0.3544     0.0292     12.121     0.0000      0.2971      0.4118\n",
      "d84            0.4901     0.0362     13.529     0.0000      0.4191      0.5611\n",
      "d85            0.6175     0.0452     13.648     0.0000      0.5288      0.7062\n",
      "d86            0.7655     0.0561     13.638     0.0000      0.6555      0.8755\n",
      "d87            0.9250     0.0688     13.450     0.0000      0.7902      1.0599\n",
      "==============================================================================\n"
     ]
    }
   ],
   "source": [
    "formula_fe = 'lwage ~ married + union + expersq \\\n",
    "                      +d81+d82+d83+d84+d85+d86+d87 + EntityEffects'\n",
    "mod_fe = PanelOLS.from_formula(formula_fe, data=wagepan)\n",
    "\n",
    "result_fe = mod_fe.fit()\n",
    "print(result_fe.summary.tables[1])\n"
   ]
  },
  {
   "cell_type": "markdown",
   "metadata": {},
   "source": []
  },
  {
   "cell_type": "code",
   "execution_count": 16,
   "metadata": {},
   "outputs": [
    {
     "name": "stdout",
     "output_type": "stream",
     "text": [
      "                             Parameter Estimates                              \n",
      "==============================================================================\n",
      "            Parameter  Std. Err.     T-stat    P-value    Lower CI    Upper CI\n",
      "------------------------------------------------------------------------------\n",
      "Intercept      0.0234     0.1514     0.1546     0.8771     -0.2735      0.3203\n",
      "married        0.0638     0.0168     3.8035     0.0001      0.0309      0.0967\n",
      "union          0.1059     0.0179     5.9289     0.0000      0.0709      0.1409\n",
      "expersq       -0.0047     0.0007    -6.8623     0.0000     -0.0061     -0.0034\n",
      "exper          0.1058     0.0154     6.8706     0.0000      0.0756      0.1361\n",
      "educ           0.0919     0.0107     8.5744     0.0000      0.0709      0.1129\n",
      "black         -0.1394     0.0480    -2.9054     0.0037     -0.2334     -0.0453\n",
      "hisp           0.0217     0.0428     0.5078     0.6116     -0.0622      0.1057\n",
      "d81            0.0404     0.0247     1.6362     0.1019     -0.0080      0.0889\n",
      "d82            0.0309     0.0324     0.9519     0.3412     -0.0327      0.0944\n",
      "d83            0.0202     0.0417     0.4840     0.6284     -0.0616      0.1020\n",
      "d84            0.0430     0.0515     0.8350     0.4037     -0.0580      0.1440\n",
      "d85            0.0577     0.0615     0.9383     0.3482     -0.0629      0.1782\n",
      "d86            0.0918     0.0716     1.2834     0.1994     -0.0485      0.2321\n",
      "d87            0.1348     0.0817     1.6504     0.0989     -0.0253      0.2950\n",
      "==============================================================================\n",
      "Effects                   0.106946\n",
      "Residual                  0.123324\n",
      "Percent due to Effects    0.464438\n",
      "Name: Variance Decomposition, dtype: float64\n"
     ]
    }
   ],
   "source": [
    "formula_re = 'lwage ~ 1 + married + union + expersq \\\n",
    "                        + exper + educ + black + hisp \\\n",
    "                        +d81+d82+d83+d84+d85+d86+d87'\n",
    "\n",
    "result_re = RandomEffects.from_formula(formula_re, data=wagepan).fit()\n",
    "\n",
    "print(result_re.summary.tables[1])\n",
    "\n",
    "print(result_re.variance_decomposition)"
   ]
  },
  {
   "cell_type": "code",
   "execution_count": 17,
   "metadata": {},
   "outputs": [],
   "source": [
    "def add_col_mean(dframe, ori_col, new_col):  # (1)\n",
    "    \n",
    "    dict = dframe.groupby(level=0)[ori_col].mean().to_dict()  # (2)\n",
    "    mean = dframe.index.get_level_values(0).to_series().map(dict).tolist()  # (3)\n",
    "    dframe.loc[:,new_col] = mean  # (4)\n",
    "    \n",
    "    return dframe   # (5)"
   ]
  },
  {
   "cell_type": "code",
   "execution_count": 18,
   "metadata": {},
   "outputs": [
    {
     "name": "stdout",
     "output_type": "stream",
     "text": [
      "                        RandomEffects Estimation Summary                        \n",
      "================================================================================\n",
      "Dep. Variable:                  lwage   R-squared:                        0.1711\n",
      "Estimator:              RandomEffects   R-squared (Between):              0.0967\n",
      "No. Observations:                4360   R-squared (Within):               0.1806\n",
      "Date:                Mon, Sep 04 2023   R-squared (Overall):              0.1355\n",
      "Time:                        10:44:20   Log-likelihood                   -1609.8\n",
      "Cov. Estimator:            Unadjusted                                           \n",
      "                                        F-statistic:                      69.027\n",
      "Entities:                         545   P-value                           0.0000\n",
      "Avg Obs:                       8.0000   Distribution:                 F(13,4346)\n",
      "Min Obs:                       8.0000                                           \n",
      "Max Obs:                       8.0000   F-statistic (robust):             69.027\n",
      "                                        P-value                           0.0000\n",
      "Time periods:                       8   Distribution:                 F(13,4346)\n",
      "Avg Obs:                       545.00                                           \n",
      "Min Obs:                       545.00                                           \n",
      "Max Obs:                       545.00                                           \n",
      "                                                                                \n",
      "                              Parameter Estimates                               \n",
      "================================================================================\n",
      "              Parameter  Std. Err.     T-stat    P-value    Lower CI    Upper CI\n",
      "--------------------------------------------------------------------------------\n",
      "Intercept        1.1537     0.0502     22.979     0.0000      1.0552      1.2521\n",
      "married          0.0467     0.0183     2.5522     0.0107      0.0108      0.0825\n",
      "union            0.0800     0.0193     4.1475     0.0000      0.0422      0.1178\n",
      "expersq         -0.0052     0.0007    -7.3693     0.0000     -0.0066     -0.0038\n",
      "married_mean     0.1618     0.0469     3.4518     0.0006      0.0699      0.2536\n",
      "union_mean       0.1612     0.0526     3.0653     0.0022      0.0581      0.2644\n",
      "expersq_mean     0.0032     0.0009     3.4362     0.0006      0.0014      0.0050\n",
      "d81              0.1512     0.0219     6.8959     0.0000      0.1082      0.1942\n",
      "d82              0.2530     0.0244     10.371     0.0000      0.2052      0.3008\n",
      "d83              0.3544     0.0292     12.134     0.0000      0.2972      0.4117\n",
      "d84              0.4901     0.0362     13.544     0.0000      0.4192      0.5611\n",
      "d85              0.6175     0.0452     13.663     0.0000      0.5289      0.7061\n",
      "d86              0.7655     0.0561     13.654     0.0000      0.6556      0.8754\n",
      "d87              0.9250     0.0687     13.465     0.0000      0.7903      1.0597\n",
      "================================================================================\n"
     ]
    }
   ],
   "source": [
    "wagepan = add_col_mean(wagepan, 'married', 'married_mean')\n",
    "wagepan = add_col_mean(wagepan, 'union', 'union_mean')\n",
    "wagepan = add_col_mean(wagepan, 'expersq', 'expersq_mean')\n",
    "\n",
    "formula_cre = 'lwage ~ 1 + married + union + expersq \\\n",
    "                         + married_mean + union_mean + expersq_mean \\\n",
    "                         +d81+d82+d83+d84+d85+d86+d87'\n",
    "\n",
    "result_cre = RandomEffects.from_formula(formula_cre, data=wagepan).fit()\n",
    "\n",
    "print(result_cre)"
   ]
  }
 ],
 "metadata": {
  "kernelspec": {
   "display_name": "Python 3",
   "language": "python",
   "name": "python3"
  },
  "language_info": {
   "codemirror_mode": {
    "name": "ipython",
    "version": 3
   },
   "file_extension": ".py",
   "mimetype": "text/x-python",
   "name": "python",
   "nbconvert_exporter": "python",
   "pygments_lexer": "ipython3",
   "version": "3.10.12"
  },
  "orig_nbformat": 4
 },
 "nbformat": 4,
 "nbformat_minor": 2
}
